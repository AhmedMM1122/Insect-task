{
  "nbformat": 4,
  "nbformat_minor": 0,
  "metadata": {
    "colab": {
      "provenance": [],
      "include_colab_link": true
    },
    "kernelspec": {
      "name": "python3",
      "display_name": "Python 3"
    },
    "language_info": {
      "name": "python"
    }
  },
  "cells": [
    {
      "cell_type": "markdown",
      "metadata": {
        "id": "view-in-github",
        "colab_type": "text"
      },
      "source": [
        "<a href=\"https://colab.research.google.com/github/AhmedMM1122/Insect-task/blob/main/Task.ipynb\" target=\"_parent\"><img src=\"https://colab.research.google.com/assets/colab-badge.svg\" alt=\"Open In Colab\"/></a>"
      ]
    },
    {
      "cell_type": "code",
      "execution_count": null,
      "metadata": {
        "id": "SEYV27JdAl3K"
      },
      "outputs": [],
      "source": [
        "#import Libraries\n",
        "import numpy as np\n",
        "from sklearn.decomposition import PCA\n",
        "from scipy.stats import zscore\n",
        "import time\n",
        "import scipy.special\n",
        "from scipy.special import gamma, gammaln\n",
        "from scipy.stats import mode\n",
        "from scipy.stats import mode\n",
        "from sklearn.preprocessing import StandardScaler,normalize\n",
        "from sklearn.decomposition import PCA\n",
        "import scipy.io\n",
        "from sklearn.metrics import accuracy_score, f1_score, precision_score, recall_score\n",
        "from sklearn.model_selection import train_test_split\n",
        "from sklearn.linear_model import Ridge\n",
        "from scipy.linalg import block_diag\n",
        "import argparse"
      ]
    },
    {
      "cell_type": "code",
      "source": [
        "from google.colab import drive\n",
        "drive.mount('/content/drive')"
      ],
      "metadata": {
        "colab": {
          "base_uri": "https://localhost:8080/"
        },
        "id": "Z44tNpJqN-D5",
        "outputId": "a50428f0-b828-404d-fc85-97298a0ffd30"
      },
      "execution_count": 5,
      "outputs": [
        {
          "output_type": "stream",
          "name": "stdout",
          "text": [
            "Mounted at /content/drive\n"
          ]
        }
      ]
    },
    {
      "cell_type": "code",
      "source": [
        "#load dataset\n",
        "dataset = '/content/drive/MyDrive/data/INSECTS' #change this donia\n",
        "\n",
        "fname1 = f'/content/drive/MyDrive/data/INSECTS/data.mat' #change this donia\n",
        "fname2 = f'/content/drive/MyDrive/data/INSECTS/splits.mat'#change this donia\n",
        "\n",
        "data = scipy.io.loadmat(fname1)\n",
        "splits = scipy.io.loadmat(fname2)"
      ],
      "metadata": {
        "id": "6oAexBN1OIwd"
      },
      "execution_count": 7,
      "outputs": []
    },
    {
      "cell_type": "code",
      "source": [
        "embeddings_dna = data['embeddings_dna']\n",
        "embeddings_img = data['embeddings_img']\n",
        "labels = data['labels']\n",
        "trainval_loc = splits['trainval_loc']\n",
        "train_loc = splits['train_loc']\n",
        "test_seen_loc = splits['test_seen_loc']\n",
        "test_unseen_loc = splits['test_unseen_loc']\n",
        "val_seen_loc = splits['val_seen_loc']\n",
        "val_unseen_loc = splits['val_unseen_loc']\n",
        "G=data['G']"
      ],
      "metadata": {
        "id": "5DEEfjEoOqwg"
      },
      "execution_count": 8,
      "outputs": []
    },
    {
      "cell_type": "code",
      "source": [
        "model = 'OSBC_DNA'\n",
        "transductive = True"
      ],
      "metadata": {
        "id": "pzix0JJ9OZDY"
      },
      "execution_count": 9,
      "outputs": []
    },
    {
      "cell_type": "code",
      "source": [
        "#Ridge_regression\n",
        "\n",
        "def ridge_regression(embeddings_dna, embeddings_img, data_subset, lambda_,va_l1,va_l2):\n",
        "    di = embeddings_img.shape[1]\n",
        "    st = data_subset\n",
        "    X = embeddings_img[st[va_l1], :].T\n",
        "    D = embeddings_dna[st[va_l2], :].T\n",
        "\n",
        "    DXT = np.dot(D, X.T)\n",
        "    V = np.dot(DXT, np.linalg.inv(np.dot(X, X.T) + rho * np.eye(di)))\n",
        "\n",
        "    return V"
      ],
      "metadata": {
        "id": "zzYKSTJAPSs5"
      },
      "execution_count": 10,
      "outputs": []
    },
    {
      "cell_type": "code",
      "source": [
        "if transductive:\n",
        "  dd = embeddings_dna.shape[1]\n",
        "  di = embeddings_img.shape[1]\n",
        "  rho = 1\n",
        "  if model == 'OSBC_IMG':\n",
        "    print(\"Transductive model works well if the mapping is from Image to DNA,\")\n",
        "    print(\"Thus we automatically run this version!\")\n",
        "  model = 'OSBC_DIT'\n",
        "  st = np.concatenate((trainval_loc, test_unseen_loc, test_seen_loc), axis=1)\n",
        "  embeddings_dna = zscore(embeddings_dna, axis=0)\n",
        "  embeddings_img = zscore(embeddings_img, axis=0)\n",
        "  st = np.array(st).flatten()\n",
        "  valid_indices = (st >= 0) & (st < embeddings_img.shape[0])\n",
        "  valid_indices1 = (st >= 0) & (st < embeddings_dna.shape[0])\n",
        "  start_time = time.time()\n",
        "  V = ridge_regression(embeddings_dna, embeddings_img, st, rho,valid_indices,valid_indices1)\n",
        "  end_time = time.time()\n",
        "  elapsed_time = end_time - start_time\n",
        "  print('Time took for learning map in transductive setup:', elapsed_time)"
      ],
      "metadata": {
        "colab": {
          "base_uri": "https://localhost:8080/"
        },
        "id": "A6J_DO1EOoVj",
        "outputId": "0168b6b5-6e7d-43b3-c13d-d31b8e633f42"
      },
      "execution_count": 11,
      "outputs": [
        {
          "output_type": "stream",
          "name": "stdout",
          "text": [
            "Time took for learning map in transductive setup: 8.823112726211548\n"
          ]
        }
      ]
    },
    {
      "cell_type": "code",
      "source": [
        "pca_dim = 500"
      ],
      "metadata": {
        "id": "PwYpi5cIRNMN"
      },
      "execution_count": 12,
      "outputs": []
    },
    {
      "cell_type": "code",
      "source": [
        "def load_tuned_params(model):\n",
        " #We use the upper() method to convert the input model string to uppercase\n",
        "    model = model.upper()\n",
        " #We define the parameter sets OSBC_IMG, OSBC_DNA, OSBC_DIL, and OSBC_DIT as lists.\n",
        "    OSBC_IMG = [0.1, 10, 5 * pca_dim, 1]\n",
        "    OSBC_DNA = [0.1, 10, 25 * pca_dim, 0.5]\n",
        "    OSBC_DIL = [0.1, 10, 5 * pca_dim, 0.5]\n",
        "    OSBC_DIT = [0.1, 10, 25 * pca_dim, 0.5]\n",
        "#evluate model of data, if it is img,dna,.......\n",
        "    if model == 'OSBC_IMG':\n",
        "        data = OSBC_IMG\n",
        "    elif model == 'OSBC_DNA':\n",
        "        data = OSBC_DNA\n",
        "    elif model == 'OSBC_DIL':\n",
        "        data = OSBC_DIL\n",
        "    elif model == 'OSBC_DIT':\n",
        "        data = OSBC_DIT\n",
        "    else:\n",
        "        raise ValueError(\"Invalid model name\")\n",
        "#The selected parameters are unpacked into k_0, k_1, m, and s, and these values are returned as a tuple\n",
        "    k_0, k_1, m, s = data\n",
        "    return k_0, k_1, m, s,pca_dim\n"
      ],
      "metadata": {
        "id": "EDskK4K9SW8K"
      },
      "execution_count": 17,
      "outputs": []
    },
    {
      "cell_type": "code",
      "source": [
        "print(f'Loaded parameters for {data}:')\n",
        "\n"
      ],
      "metadata": {
        "id": "qqoXDbE8atiM",
        "outputId": "f93dde87-0927-48bb-e6c4-61353cc02dc5",
        "colab": {
          "base_uri": "https://localhost:8080/"
        }
      },
      "execution_count": 24,
      "outputs": [
        {
          "output_type": "stream",
          "name": "stdout",
          "text": [
            "Loaded parameters for {'__header__': b'MATLAB 5.0 MAT-file, Platform: PCWIN64, Created on: Tue Sep  7 15:21:34 2021', '__version__': '1.0', '__globals__': [], 'G': array([[1041],\n",
            "       [1041],\n",
            "       [1042],\n",
            "       ...,\n",
            "       [1407],\n",
            "       [1407],\n",
            "       [1408]], dtype=uint16), 'bold_ids': array([[array(['FBCOA785-10'], dtype='<U11')],\n",
            "       [array(['FBCOB090-10'], dtype='<U11')],\n",
            "       [array(['FBCOJ742-13'], dtype='<U11')],\n",
            "       ...,\n",
            "       [array(['SDP902190-20'], dtype='<U12')],\n",
            "       [array(['SDP902222-20'], dtype='<U12')],\n",
            "       [array(['SDP902158-20'], dtype='<U12')]], dtype=object), 'embeddings_dna': array([[-0.98354745, -0.9892143 , -0.91698575, ..., -0.99936754,\n",
            "         0.97880316, -0.97308671],\n",
            "       [-0.97404909, -0.99507314, -0.90479732, ..., -0.9994235 ,\n",
            "         0.98016381, -0.99294102],\n",
            "       [-0.98333842, -0.99395633, -0.92201436, ..., -0.99849546,\n",
            "         0.89877152, -0.98533833],\n",
            "       ...,\n",
            "       [ 0.1934008 ,  0.90308529,  0.70343852, ..., -0.99973774,\n",
            "        -0.94102329,  0.99220449],\n",
            "       [-0.06256522,  0.81890213,  0.75426298, ..., -0.99983907,\n",
            "        -0.96635765,  0.99216825],\n",
            "       [ 0.82012498,  0.66801018, -0.53673184, ..., -0.99120772,\n",
            "        -0.68803096,  0.99974102]]), 'embeddings_img': array([[0.6911283 , 2.2809656 , 0.6855053 , ..., 1.455918  , 0.16906261,\n",
            "        0.13311288],\n",
            "       [0.7539218 , 1.9619325 , 0.36932504, ..., 1.1854451 , 0.4905447 ,\n",
            "        0.10349289],\n",
            "       [0.4496681 , 1.7505735 , 0.6315778 , ..., 0.97403795, 0.11370263,\n",
            "        0.07029282],\n",
            "       ...,\n",
            "       [0.58394176, 1.9473376 , 0.18167453, ..., 0.5016906 , 2.6092253 ,\n",
            "        0.16453797],\n",
            "       [0.44880962, 1.4840388 , 1.0446624 , ..., 0.25590137, 0.6805361 ,\n",
            "        0.23739313],\n",
            "       [1.7684239 , 1.1025288 , 1.4146725 , ..., 0.9506411 , 2.358199  ,\n",
            "        0.34382707]], dtype=float32), 'ids': array([[array(['BCZSMCOL00690+1280851812'], dtype='<U24')],\n",
            "       [array(['BCZSMCOLA00185+1280478874'], dtype='<U25')],\n",
            "       [array(['BCZSM_COLA_01787+1350414822'], dtype='<U27')],\n",
            "       ...,\n",
            "       [array(['flyA_copy+1581701651'], dtype='<U20')],\n",
            "       [array(['flyC_copy+1581702515'], dtype='<U20')],\n",
            "       [array(['fly_B_pic+1581616118'], dtype='<U20')]], dtype=object), 'labels': array([[   1],\n",
            "       [   1],\n",
            "       [   1],\n",
            "       ...,\n",
            "       [1040],\n",
            "       [1040],\n",
            "       [1040]]), 'nucleotides': array([[array(['AACATTATACTTTATTTTTGGTGCATGATCAGGAATAGTCGGAACCTCTTTAAGAATGTTAATTCGACTTGAATTAGGAAACCCTGGGTCACTAATTGGTGATGACCAAATTTATAATGTAATTGTTACTGCACATGCATTTGTAATAATTTTTTTTATAGTAATGCCTATTATAATTGGAGGTTTCGGAAACTGACTAGTTCCTTTAATACTAGGAGCTCCTGATATAGCATTCCCTCGAATAAATAACATGAGATTCTGACTGCTCCCCCCTTCTTTAACCCTTCTCCTTATAAGCAGCATAGTTGAGAGAGGAGCTGGCACAGGTTGAACAGTTTACCCACCACTTTCTTCTAATATTGCCCATAGAGGAGCCTCAGTTGACCTAGCTATTTTTAGTCTACATTTAGCTGGAATTTCTTCAATTTTAGGAGCTGTAAATTTTATTACTACAATTATCAATATACGATCTGTAGGAATAACTTTTGACCGAATACCTTTATTTGTCTGATCAGTAGGAATTACTGCTCTGTTACTATTACTATCATTACCTGTATTAGCTGGAGCAATCACAATACTTCTAACAGATCGAAATTTAAATACTTCATTTTTTGATCCTGCAGGAGGTGGAGACCCAATTTTATACCAACATTTATTT'],\n",
            "              dtype='<U658')                                                                                                                                                                                                                                                                                                                                                                                                                                                                                                                                                                                                                                                                         ],\n",
            "       [array(['AACATTATACTTTATTTTTGGTGCATGATCAGGAATAGTCGGAACCTCTTTAAGAATGTTAATTCGACTTGAATTAGGAAACCCTGGGTCACTAATTGGTGATGACCAAATTTATAATGTAATTGTTACTGCACATGCATTTGTAATAATTTTTTTTATAGTAATGCCTATTATAATTGGAGGTTTCGGAAACTGATTAGTTCCTTTAATACTAGGAGCTCCTGATATAGCATTCCCTCGAATAAATAACATGAGATTCTGACTGCTCCCCCCTTCTTTAACCCTTCTCCTTATAAGCAGCATAGTTGAGAGAGGAGCTGGCACAGGTTGAACAGTTTACCCACCACTTTCTTCTAATATTGCCCATAGAGGAGCCTCAGTTGACCTAGCTATTTTTAGTCTACATTTAGCTGGAATTTCTTCAATTTTAGGAGCTGTAAATTTTATTACTACAATTATCAATATACGATCTGTAGGAATAACTTTTGACCGAATACCTTTATTTGTCTGATCAGTAGGAATTACTGCTCTGTTACTATTACTATCATTACCTGTATTAGCTGGAGCAATCACAATACTTCTAACAGATCGAAATTTAAATACTTCATTTTTTGATCCTGCAGGAGGTGGAGATCCAATTTTATACCAACATTTATTT'],\n",
            "              dtype='<U658')                                                                                                                                                                                                                                                                                                                                                                                                                                                                                                                                                                                                                                                                         ],\n",
            "       [array(['AACATTATACTTTATTTTTGGTGCATGATCAGGAATAGTCGGAACCTCTTTAAGGATGTTAATTCGACTTGAATTAGGAAACCCTGGGTCACTAATTGGTGATGACCAAATTTATAATGTAATTGTTACTGCACATGCATTTGTAATAATTTTTTTTATAGTAATGCCTATTATAATTGGAGGTTTCGGAAACTGACTAGTTCCTTTAATACTAGGAGCTCCTGATATAGCATTCCCTCGAATAAATAACATGAGATTCTGACTGCTCCCCCCTTCTTTAACCCTTCTCCTTATAAGCAGCATAGTTGAGAGAGGAGCTGGCACAGGTTGAACAGTTTACCCACCACTTTCTTCTAATATTGCCCATAGAGGAGCCTCAGTTGACCTAGCTATTTTTAGTCTACATTTAGCTGGAATTTCTTCAATTTTAGGAGCTGTAAATTTTATTACTACAATTATCAATATACGATCTGTAGGAATAACTTTTGACCGAATACCTTTATTTGTCTGATCAGTAGGAATTACTGCTCTGTTACTATTACTATCATTACCTGTATTAGCTGGAGCAATCACAATACTTCTAACAGATCGAAATTTAAATACTTCATTTTTTGATCCTGCAGGAGGTGGAGATCCAATTTTATACCAA---------'],\n",
            "              dtype='<U658')                                                                                                                                                                                                                                                                                                                                                                                                                                                                                                                                                                                                                                                                         ],\n",
            "       ...,\n",
            "       [array(['AACATTATATTTTATTTTCGGAGCTTGAGCCGGTATAGTAGGGACATCTCTGAGAATTTTAATTCGAGCTGAATTAGGGCATCCAGGAGCATTAATTGGTGATGACCAAATTTATAATGTAATTGTTACAGCTCATGCATTTATTATAATTTTTTTTATAGTTATACCAATTATAATTGGGGGATTTGGAAATTGATTAGTTCCTTTAATATTAGGAGCTCCCGATATAGCTTTTCCTCGAATAAATAATATAAGTTTCTGATTACTTCCCCCTGCTCTTTCTCTTTTATTAGTAAGAAGTATAGTAGAAAATGGAGCAGGAACTGGGTGAACTGTTTACCCTCCTTTGTCTTCTGGTATTGCTCATGGGGGAGCCTCAGTTGATTTAGCTATTTTTTCTCTACATTTAGCGGGAATTTCTTCAATTTTAGGGGCCGTAAATTTTATTACAACAGTAATTAATATGCGATCTTCGGGAATTACTTTTGATCGAATACCATTATTTGTATGATCAGTAGTAATTACTGCATTATTATTACTTTTATCTTTACCAGTTTTAGCAGGAGCAATTACTATGCTTTTAACTGACCGTAATTTAAATACGTCATTTTTTGACCCTGCCGGGGGAGGTGACCCAATTCTTTATCAACATTT'],\n",
            "              dtype='<U654')                                                                                                                                                                                                                                                                                                                                                                                                                                                                                                                                                                                                                                                                     ],\n",
            "       [array(['AACATTATATTTTATTTTCGGAGCTTGAGCCGGTATAGTAGGGACATCTCTGAGAATTTTAATTCGAGCTGAATTAGGGCATCCAGGAGCATTAATTGGTGATGACCAAATTTATAATGTAATTGTTACAGCTCATGCATTTATTATAATTTTTTTTATAGTTATACCAATTATAATTGGGGGATTTGGAAATTGATTAGTTCCTTTAATATTAGGAGCTCCCGATATAGCTTTTCCTCGAATAAATAATATAAGTTTCTGATTACTTCCCCCTGCTCTTTCTCTTTTATTAGTAAGAAGTATAGTAGAAAATGGAGCAGGAACTGGGTGAACTGTTTACCCTCCTTTGTCTTCTGGTATTGCTCATGGGGGAGCCTCAGTTGATTTAGCTATTTTTTCTCTACATTTAGCGGGAATTTCTTCAATTTTAGGGGCCGTAAATTTTATTACAACAGTAATTAATATACGATCTTCGGGAATTACTTTTGATCGAATACCATTATTTGTATGATCAGTAGTAATTACTGCATTATTATTACTTTTATCTTTACCAGTTTTAGCAGGAGCAATTACTATGCTTTTAACTGACCGTAATTTAAATACGTCATTTTTTGACCCTGCCGGGGGAGGTGACCCAATTCTTTATCAACATTTATTTTG'],\n",
            "              dtype='<U660')                                                                                                                                                                                                                                                                                                                                                                                                                                                                                                                                                                                                                                                                           ],\n",
            "       [array(['AACATTATATTTTATTTTCGGAGCTTGAGCCGGTATAGTAGGAACATCTCTGAGAATTTTAATTCGAGCTGAATTAGGACATCCAGGAGCATTAATTGGTGATGACCAAATTTATAATGTAATTGTTACAGCTCATGCATTTATTATAATTTTTTTTATAGTTATACCAATTATAATTGGGGGATTTGGAAATTGATTAGTTCCTTTAATATTAGGAGCTCCCGATATAGCTTTTCCTCGAATAAATAATATAAGTTTCTGATTACTTCCCCCTGCTCTTTCTCTTTTATTAGTAAGAAGTATAGTAGAAAATGGAGCGGGAACTGGATGAACTGTTTACCCTCCTTTGTCTTCTGGTATTGCTCATGGGGGAGCCTCAGTTGATCTAGCTATTTTTTCTCTACATTTAGCAGGAATTTCTTCAATTTTAGGGGCCGTAAATTTTATTACAACAGTAATTAATATGCGATCTTCAGGAATTACTTTTGATCGAATACCATTATTTGTATGATCAGTAGTAATTACTGCATTATTATTACTTTTATCTTTACCAGTTTTAGCGGGAGCAATTACTATGCTTTTAACTGACCGTAATTTAAATACGTCATTTTTTGACCCTGCCGGGGGAGGTGACCCAATTCTTTATCAACATTTATTT'],\n",
            "              dtype='<U658')                                                                                                                                                                                                                                                                                                                                                                                                                                                                                                                                                                                                                                                                         ]],\n",
            "      dtype=object), 'species': array([[array(['Abax parallelepipedus'], dtype='<U21')],\n",
            "       [array(['Abax parallelepipedus'], dtype='<U21')],\n",
            "       [array(['Abax parallelepipedus'], dtype='<U21')],\n",
            "       ...,\n",
            "       [array(['Zaprionus indianus'], dtype='<U18')],\n",
            "       [array(['Zaprionus indianus'], dtype='<U18')],\n",
            "       [array(['Zaprionus indianus'], dtype='<U18')]], dtype=object)}:\n"
          ]
        }
      ]
    }
  ]
}