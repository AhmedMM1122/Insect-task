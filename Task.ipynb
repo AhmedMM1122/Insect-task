{
  "nbformat": 4,
  "nbformat_minor": 0,
  "metadata": {
    "colab": {
      "provenance": [],
      "include_colab_link": true
    },
    "kernelspec": {
      "name": "python3",
      "display_name": "Python 3"
    },
    "language_info": {
      "name": "python"
    }
  },
  "cells": [
    {
      "cell_type": "markdown",
      "metadata": {
        "id": "view-in-github",
        "colab_type": "text"
      },
      "source": [
        "<a href=\"https://colab.research.google.com/github/AhmedMM1122/Insect-task/blob/main/Task.ipynb\" target=\"_parent\"><img src=\"https://colab.research.google.com/assets/colab-badge.svg\" alt=\"Open In Colab\"/></a>"
      ]
    },
    {
      "cell_type": "code",
      "execution_count": null,
      "metadata": {
        "id": "SEYV27JdAl3K"
      },
      "outputs": [],
      "source": [
        "#import Libraries\n",
        "import numpy as np\n",
        "from sklearn.decomposition import PCA\n",
        "from scipy.stats import zscore\n",
        "import time\n",
        "import scipy.special\n",
        "from scipy.special import gamma, gammaln\n",
        "from scipy.stats import mode\n",
        "from scipy.stats import mode\n",
        "from sklearn.preprocessing import StandardScaler,normalize\n",
        "from sklearn.decomposition import PCA\n",
        "import scipy.io\n",
        "from sklearn.metrics import accuracy_score, f1_score, precision_score, recall_score\n",
        "from sklearn.model_selection import train_test_split\n",
        "from sklearn.linear_model import Ridge\n",
        "from scipy.linalg import block_diag\n",
        "import argparse"
      ]
    },
    {
      "cell_type": "code",
      "source": [
        "from google.colab import drive\n",
        "drive.mount('/content/drive')"
      ],
      "metadata": {
        "colab": {
          "base_uri": "https://localhost:8080/"
        },
        "id": "Z44tNpJqN-D5",
        "outputId": "a50428f0-b828-404d-fc85-97298a0ffd30"
      },
      "execution_count": 5,
      "outputs": [
        {
          "output_type": "stream",
          "name": "stdout",
          "text": [
            "Mounted at /content/drive\n"
          ]
        }
      ]
    },
    {
      "cell_type": "code",
      "source": [
        "#load dataset\n",
        "dataset = '/content/drive/MyDrive/data/INSECTS' #change this donia\n",
        "\n",
        "fname1 = f'/content/drive/MyDrive/data/INSECTS/data.mat' #change this donia\n",
        "fname2 = f'/content/drive/MyDrive/data/INSECTS/splits.mat'#change this donia\n",
        "\n",
        "data = scipy.io.loadmat(fname1)\n",
        "splits = scipy.io.loadmat(fname2)"
      ],
      "metadata": {
        "id": "6oAexBN1OIwd"
      },
      "execution_count": 7,
      "outputs": []
    },
    {
      "cell_type": "code",
      "source": [
        "embeddings_dna = data['embeddings_dna']\n",
        "embeddings_img = data['embeddings_img']\n",
        "labels = data['labels']\n",
        "trainval_loc = splits['trainval_loc']\n",
        "train_loc = splits['train_loc']\n",
        "test_seen_loc = splits['test_seen_loc']\n",
        "test_unseen_loc = splits['test_unseen_loc']\n",
        "val_seen_loc = splits['val_seen_loc']\n",
        "val_unseen_loc = splits['val_unseen_loc']\n",
        "G=data['G']"
      ],
      "metadata": {
        "id": "5DEEfjEoOqwg"
      },
      "execution_count": 8,
      "outputs": []
    },
    {
      "cell_type": "code",
      "source": [
        "model = 'OSBC_DNA'\n",
        "transductive = True"
      ],
      "metadata": {
        "id": "pzix0JJ9OZDY"
      },
      "execution_count": 9,
      "outputs": []
    },
    {
      "cell_type": "code",
      "source": [
        "#Ridge_regression\n",
        "\n",
        "def ridge_regression(embeddings_dna, embeddings_img, data_subset, lambda_,va_l1,va_l2):\n",
        "    di = embeddings_img.shape[1]\n",
        "    st = data_subset\n",
        "    X = embeddings_img[st[va_l1], :].T\n",
        "    D = embeddings_dna[st[va_l2], :].T\n",
        "\n",
        "    DXT = np.dot(D, X.T)\n",
        "    V = np.dot(DXT, np.linalg.inv(np.dot(X, X.T) + rho * np.eye(di)))\n",
        "\n",
        "    return V"
      ],
      "metadata": {
        "id": "zzYKSTJAPSs5"
      },
      "execution_count": 10,
      "outputs": []
    },
    {
      "cell_type": "code",
      "source": [
        "if transductive:\n",
        "  dd = embeddings_dna.shape[1]\n",
        "  di = embeddings_img.shape[1]\n",
        "  rho = 1\n",
        "  if model == 'OSBC_IMG':\n",
        "    print(\"Transductive model works well if the mapping is from Image to DNA,\")\n",
        "    print(\"Thus we automatically run this version!\")\n",
        "  model = 'OSBC_DIT'\n",
        "  st = np.concatenate((trainval_loc, test_unseen_loc, test_seen_loc), axis=1)\n",
        "  embeddings_dna = zscore(embeddings_dna, axis=0)\n",
        "  embeddings_img = zscore(embeddings_img, axis=0)\n",
        "  st = np.array(st).flatten()\n",
        "  valid_indices = (st >= 0) & (st < embeddings_img.shape[0])\n",
        "  valid_indices1 = (st >= 0) & (st < embeddings_dna.shape[0])\n",
        "  start_time = time.time()\n",
        "  V = ridge_regression(embeddings_dna, embeddings_img, st, rho,valid_indices,valid_indices1)\n",
        "  end_time = time.time()\n",
        "  elapsed_time = end_time - start_time\n",
        "  print('Time took for learning map in transductive setup:', elapsed_time)"
      ],
      "metadata": {
        "colab": {
          "base_uri": "https://localhost:8080/"
        },
        "id": "A6J_DO1EOoVj",
        "outputId": "0168b6b5-6e7d-43b3-c13d-d31b8e633f42"
      },
      "execution_count": 11,
      "outputs": [
        {
          "output_type": "stream",
          "name": "stdout",
          "text": [
            "Time took for learning map in transductive setup: 8.823112726211548\n"
          ]
        }
      ]
    },
    {
      "cell_type": "code",
      "source": [
        "pca_dim = 500"
      ],
      "metadata": {
        "id": "PwYpi5cIRNMN"
      },
      "execution_count": 12,
      "outputs": []
    },
    {
      "cell_type": "code",
      "source": [
        "def load_tuned_params(model):\n",
        "    model = model.upper()\n",
        "\n",
        "    OSBC_IMG = [0.1, 10, 5 * pca_dim, 1]\n",
        "    OSBC_DNA = [0.1, 10, 25 * pca_dim, 0.5]\n",
        "    OSBC_DIL = [0.1, 10, 5 * pca_dim, 0.5]\n",
        "    OSBC_DIT = [0.1, 10, 25 * pca_dim, 0.5]\n",
        "\n",
        "    if model == 'OSBC_IMG':\n",
        "        data = OSBC_IMG\n",
        "    elif model == 'OSBC_DNA':\n",
        "        data = OSBC_DNA\n",
        "    elif model == 'OSBC_DIL':\n",
        "        data = OSBC_DIL\n",
        "    elif model == 'OSBC_DIT':\n",
        "        data = OSBC_DIT\n",
        "    else:\n",
        "        raise ValueError(\"Invalid model name\")\n",
        "\n",
        "    k_0, k_1, m, s = data\n",
        "    return k_0, k_1, m, s\n"
      ],
      "metadata": {
        "id": "EDskK4K9SW8K"
      },
      "execution_count": 13,
      "outputs": []
    }
  ]
}