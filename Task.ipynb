{
  "nbformat": 4,
  "nbformat_minor": 0,
  "metadata": {
    "colab": {
      "provenance": [],
      "include_colab_link": true
    },
    "kernelspec": {
      "name": "python3",
      "display_name": "Python 3"
    },
    "language_info": {
      "name": "python"
    }
  },
  "cells": [
    {
      "cell_type": "markdown",
      "metadata": {
        "id": "view-in-github",
        "colab_type": "text"
      },
      "source": [
        "<a href=\"https://colab.research.google.com/github/AhmedMM1122/Insect-task/blob/main/Task.ipynb\" target=\"_parent\"><img src=\"https://colab.research.google.com/assets/colab-badge.svg\" alt=\"Open In Colab\"/></a>"
      ]
    },
    {
      "cell_type": "code",
      "execution_count": 19,
      "metadata": {
        "id": "SEYV27JdAl3K"
      },
      "outputs": [],
      "source": [
        "#import Libraries\n",
        "import numpy as np\n",
        "from sklearn.decomposition import PCA\n",
        "from scipy.stats import zscore\n",
        "import pandas as pd\n",
        "import time\n",
        "import scipy.special\n",
        "from scipy.special import gamma, gammaln\n",
        "from scipy.stats import mode\n",
        "from scipy.stats import mode\n",
        "from sklearn.preprocessing import StandardScaler,normalize\n",
        "from sklearn.decomposition import PCA\n",
        "import scipy.io\n",
        "from sklearn.metrics import accuracy_score, f1_score, precision_score, recall_score\n",
        "from sklearn.model_selection import train_test_split\n",
        "from sklearn.linear_model import Ridge\n",
        "from scipy.linalg import block_diag\n",
        "import argparse"
      ]
    },
    {
      "cell_type": "code",
      "source": [
        "from google.colab import drive\n",
        "drive.mount('/content/drive')"
      ],
      "metadata": {
        "colab": {
          "base_uri": "https://localhost:8080/"
        },
        "id": "Z44tNpJqN-D5",
        "outputId": "169b9015-6f08-4f68-8948-043a870d4cc4"
      },
      "execution_count": 2,
      "outputs": [
        {
          "output_type": "stream",
          "name": "stdout",
          "text": [
            "Mounted at /content/drive\n"
          ]
        }
      ]
    },
    {
      "cell_type": "code",
      "source": [
        "#load dataset\n",
        "dataset = '/content/drive/MyDrive/data/INSECTS' #change this donia\n",
        "\n",
        "fname1 = f'/content/drive/MyDrive/data/INSECTS/data.mat' #change this donia\n",
        "fname2 = f'/content/drive/MyDrive/data/INSECTS/splits.mat'#change this donia\n",
        "\n",
        "data = scipy.io.loadmat(fname1)\n",
        "splits = scipy.io.loadmat(fname2)"
      ],
      "metadata": {
        "id": "6oAexBN1OIwd"
      },
      "execution_count": 4,
      "outputs": []
    },
    {
      "cell_type": "code",
      "source": [
        "embeddings_dna = data['embeddings_dna']\n",
        "embeddings_img = data['embeddings_img']\n",
        "labels = data['labels']\n",
        "trainval_loc = splits['trainval_loc']\n",
        "train_loc = splits['train_loc']\n",
        "test_seen_loc = splits['test_seen_loc']\n",
        "test_unseen_loc = splits['test_unseen_loc']\n",
        "val_seen_loc = splits['val_seen_loc']\n",
        "val_unseen_loc = splits['val_unseen_loc']\n",
        "G=data['G']"
      ],
      "metadata": {
        "id": "5DEEfjEoOqwg"
      },
      "execution_count": 5,
      "outputs": []
    },
    {
      "cell_type": "code",
      "source": [
        "model = 'OSBC_DNA'\n",
        "transductive = True"
      ],
      "metadata": {
        "id": "pzix0JJ9OZDY"
      },
      "execution_count": 6,
      "outputs": []
    },
    {
      "cell_type": "code",
      "source": [
        "#Ridge_regression\n",
        "\n",
        "def ridge_regression(embeddings_dna, embeddings_img, data_subset, lambda_,va_l1,va_l2):\n",
        "    di = embeddings_img.shape[1]\n",
        "    st = data_subset\n",
        "    X = embeddings_img[st[va_l1], :].T\n",
        "    D = embeddings_dna[st[va_l2], :].T\n",
        "\n",
        "    DXT = np.dot(D, X.T)\n",
        "    V = np.dot(DXT, np.linalg.inv(np.dot(X, X.T) + rho * np.eye(di)))\n",
        "\n",
        "    return V"
      ],
      "metadata": {
        "id": "zzYKSTJAPSs5"
      },
      "execution_count": 7,
      "outputs": []
    },
    {
      "cell_type": "code",
      "source": [
        "if transductive:\n",
        "  dd = embeddings_dna.shape[1]\n",
        "  di = embeddings_img.shape[1]\n",
        "  rho = 1\n",
        "  if model == 'OSBC_IMG':\n",
        "    print(\"Transductive model works well if the mapping is from Image to DNA,\")\n",
        "    print(\"Thus we automatically run this version!\")\n",
        "  model = 'OSBC_DIT'\n",
        "  st = np.concatenate((trainval_loc, test_unseen_loc, test_seen_loc), axis=1)\n",
        "  embeddings_dna = zscore(embeddings_dna, axis=0)\n",
        "  embeddings_img = zscore(embeddings_img, axis=0)\n",
        "  st = np.array(st).flatten()\n",
        "  valid_indices = (st >= 0) & (st < embeddings_img.shape[0])\n",
        "  valid_indices1 = (st >= 0) & (st < embeddings_dna.shape[0])\n",
        "  start_time = time.time()\n",
        "  V = ridge_regression(embeddings_dna, embeddings_img, st, rho,valid_indices,valid_indices1)\n",
        "  end_time = time.time()\n",
        "  elapsed_time = end_time - start_time\n",
        "  print('Time took for learning map in transductive setup:', elapsed_time)"
      ],
      "metadata": {
        "colab": {
          "base_uri": "https://localhost:8080/"
        },
        "id": "A6J_DO1EOoVj",
        "outputId": "f7bfc3be-cfd9-4e1d-b26d-b99922613f57"
      },
      "execution_count": 8,
      "outputs": [
        {
          "output_type": "stream",
          "name": "stdout",
          "text": [
            "Time took for learning map in transductive setup: 4.340265512466431\n"
          ]
        }
      ]
    },
    {
      "cell_type": "code",
      "source": [
        "pca_dim = 500"
      ],
      "metadata": {
        "id": "PwYpi5cIRNMN"
      },
      "execution_count": 9,
      "outputs": []
    },
    {
      "cell_type": "code",
      "source": [
        "def load_tuned_params(model):\n",
        " #We use the upper() method to convert the input model string to uppercase\n",
        "    model = model.upper()\n",
        " #We define the parameter sets OSBC_IMG, OSBC_DNA, OSBC_DIL, and OSBC_DIT as lists.\n",
        "    OSBC_IMG = [0.1, 10, 5 * pca_dim, 1]\n",
        "    OSBC_DNA = [0.1, 10, 25 * pca_dim, 0.5]\n",
        "    OSBC_DIL = [0.1, 10, 5 * pca_dim, 0.5]\n",
        "    OSBC_DIT = [0.1, 10, 25 * pca_dim, 0.5]\n",
        "#evluate model of data, if it is img,dna,.......\n",
        "    if model == 'OSBC_IMG':\n",
        "        data = OSBC_IMG\n",
        "    elif model == 'OSBC_DNA':\n",
        "        data = OSBC_DNA\n",
        "    elif model == 'OSBC_DIL':\n",
        "        data = OSBC_DIL\n",
        "    elif model == 'OSBC_DIT':\n",
        "        data = OSBC_DIT\n",
        "    else:\n",
        "        raise ValueError(\"Invalid model name\")\n",
        "#The selected parameters are unpacked into k_0, k_1, m, and s, and these values are returned as a tuple\n",
        "    k_0, k_1, m, s = data\n",
        "    return k_0, k_1, m, s\n"
      ],
      "metadata": {
        "id": "EDskK4K9SW8K"
      },
      "execution_count": 10,
      "outputs": []
    },
    {
      "cell_type": "code",
      "source": [
        "k_0, k_1, m, s = load_tuned_params(model)"
      ],
      "metadata": {
        "id": "1mMvEsqhetbw"
      },
      "execution_count": 11,
      "outputs": []
    },
    {
      "cell_type": "code",
      "source": [
        "tuning = False"
      ],
      "metadata": {
        "id": "8oYHCiYm45i4"
      },
      "execution_count": 12,
      "outputs": []
    },
    {
      "cell_type": "code",
      "source": [
        "def data_split(embeddings_dna, embeddings_img, labels, trainval_loc, train_loc, test_seen_loc, test_unseen_loc, val_seen_loc, val_unseen_loc, split_type, model):\n",
        "  if model == 'OSBC_IMG':\n",
        "    features = embeddings_img\n",
        "  else:\n",
        "    features = embeddings_dna\n",
        "\n",
        "  if split_type == 'tuning':\n",
        "    train_idx = train_loc\n",
        "    test_seen_idx = val_seen_loc\n",
        "    test_unseen_idx = val_unseen_loc\n",
        "  else:\n",
        "    train_idx = trainval_loc\n",
        "    test_seen_idx = test_seen_loc\n",
        "    test_unseen_idx = test_unseen_loc\n",
        "\n",
        "# Training data and labels\n",
        "  xtrain = features[train_idx, :]\n",
        "  ytrain = labels[train_idx]\n",
        "\n",
        "# Test data and labels, Seen and Unseen\n",
        "  valid_test_seen_idx = np.where(test_seen_idx < features.shape[0])\n",
        "  valid_test_seen_idx = valid_test_seen_idx[0]  # Access the first element of the tuple\n",
        "  xtest_seen = features[valid_test_seen_idx, :]\n",
        "  ytest_seen = labels[valid_test_seen_idx]\n",
        "\n",
        "  xtest_unseen = features[test_unseen_idx, :]\n",
        "  ytest_unseen = labels[test_unseen_idx]\n",
        "\n",
        "  return xtrain, ytrain, xtest_unseen, ytest_unseen, xtest_seen, ytest_seen\n"
      ],
      "metadata": {
        "id": "LjLAKLt-46XX"
      },
      "execution_count": 13,
      "outputs": []
    },
    {
      "cell_type": "code",
      "source": [
        "x_tr, y_tr, x_ts_us, y_ts_us, x_ts_s, y_ts_s = data_split(embeddings_dna, embeddings_img, labels, trainval_loc, train_loc, test_seen_loc,\n",
        "                                                          test_unseen_loc, val_seen_loc, val_unseen_loc, 'test', model);"
      ],
      "metadata": {
        "id": "mprpnEhJ57Xe"
      },
      "execution_count": 14,
      "outputs": []
    },
    {
      "cell_type": "code",
      "source": [
        "x_tr = x_tr.reshape(-1, 500)  # Reshape to (19420, 500)\n",
        "y_tr = y_tr.reshape(-1, 19420)  # Reshape to (19420, 1)\n"
      ],
      "metadata": {
        "id": "1nW_ROE06aXl"
      },
      "execution_count": 15,
      "outputs": []
    },
    {
      "cell_type": "code",
      "source": [
        "y_tr = y_tr.reshape(-1, 1)  # Reshape to (19420, 1)"
      ],
      "metadata": {
        "id": "PcR0utnX6lsW"
      },
      "execution_count": 16,
      "outputs": []
    },
    {
      "cell_type": "code",
      "source": [
        "x_ts_us = x_ts_us.reshape(-1, 500)  # Reshape to (8463, 500)\n",
        "y_ts_us = y_ts_us.reshape(-1, 8463)  # Reshape to (8463, 1)"
      ],
      "metadata": {
        "id": "lclQk6KM6odG"
      },
      "execution_count": 17,
      "outputs": []
    },
    {
      "cell_type": "code",
      "source": [
        "y_ts_us = y_ts_us.reshape(-1, 1)  # Reshape to (8463, 1)"
      ],
      "metadata": {
        "id": "Go36EC7_6ryQ"
      },
      "execution_count": 18,
      "outputs": []
    },
    {
      "cell_type": "code",
      "source": [
        "#function of  calculates the prior mean and prior covarince in advance to feed in Bayesian classifier\n",
        "import numpy as np\n",
        "import pandas as pd\n",
        "#takes Data (the data matrix) and labels (class labels) as input arguments.\n",
        "def calculate_priors(Data, labels):\n",
        "    _, dim = Data.shape\n",
        "    unique_labels = np.unique(labels)\n",
        "    num_classes = len(unique_labels)\n",
        "\n",
        "    scatters = np.zeros((dim, dim, num_classes))\n",
        "    class_means = np.zeros((num_classes, dim))\n",
        "\n",
        "    for j in range(num_classes):\n",
        "        class_data = Data[labels == unique_labels[j]]\n",
        "#We compute the covariance matrices for each class using np.cov.\n",
        "#The rowvar=False argument specifies that each column represents a variable\n",
        "        scatters[:, :, j] = np.cov(class_data, rowvar=False)\n",
        "        class_means[j, :] = np.mean(class_data, axis=0)\n",
        "#we calculate the overall scatter matrix as the mean of the per-class scatter matrices and the overall class mean as the mean of the class means.\n",
        "    scatter = np.mean(scatters, axis=2)\n",
        "    mu_0 = np.mean(class_means, axis=0)\n",
        "\n",
        "    return mu_0, scatter\n",
        "\n"
      ],
      "metadata": {
        "id": "Rqi0Qz_9BHEO"
      },
      "execution_count": 22,
      "outputs": []
    },
    {
      "cell_type": "code",
      "source": [
        "Data = np.random.rand(100, 5)  # Example data with 100 samples and 5 features\n",
        "labels = np.random.randint(0, 3, 100)  # Example labels (0, 1, or 2)\n",
        "\n",
        "# Call the calculate_priors function with your data and labels\n",
        "mu_0, scatter = calculate_priors(Data, labels)\n",
        "\n",
        "# Print the calculated priors and scatter matrix\n",
        "print(\"mu_0 (class means):\")\n",
        "print(mu_0)\n",
        "print(\"\\nScatter matrix:\")\n",
        "print(scatter)"
      ],
      "metadata": {
        "colab": {
          "base_uri": "https://localhost:8080/"
        },
        "id": "YTLiOqqvHmw6",
        "outputId": "350011dd-e61d-4378-c79f-a7ba3126d6bb"
      },
      "execution_count": 23,
      "outputs": [
        {
          "output_type": "stream",
          "name": "stdout",
          "text": [
            "mu_0 (class means):\n",
            "[0.48654197 0.578176   0.53070621 0.50068931 0.4540872 ]\n",
            "\n",
            "Scatter matrix:\n",
            "[[ 0.07912292  0.00037229  0.00748027 -0.00042965 -0.00425852]\n",
            " [ 0.00037229  0.084484   -0.01021951  0.00390598  0.00115693]\n",
            " [ 0.00748027 -0.01021951  0.07437902 -0.00169474  0.00147164]\n",
            " [-0.00042965  0.00390598 -0.00169474  0.09331474  0.00181531]\n",
            " [-0.00425852  0.00115693  0.00147164  0.00181531  0.07345223]]\n"
          ]
        }
      ]
    },
    {
      "cell_type": "code",
      "source": [
        "if transductive:\n",
        "  #pca= 0 ,We use np.dot for matrix multiplication.\n",
        "    x_tr_g = np.dot(V, embeddings_img[trainval_loc[0], :].T)\n",
        "    x_tr_g = x_tr_g.T\n",
        "    #we concatenate arrays using np.concatenate.\n",
        "    x_tr = np.concatenate((x_tr, x_tr_g), axis=0)\n",
        "    y_tr = np.concatenate((y_tr, y_tr))\n",
        "\n",
        "# PCA for dimensionality reduction\n",
        "pca_dim = 0\n",
        "C = np.cov(x_tr, rowvar=False)\n",
        "#computes its eigenvalues and eigenvectors (vv)\n",
        "_, vv = np.linalg.eig(C)\n",
        "x_tr = np.dot(x_tr, vv[:, -pca_dim:])\n",
        "x_ts_s = np.dot(x_ts_s, vv[:, -pca_dim:])\n",
        "x_ts_us = np.dot(x_ts_us, vv[:, -pca_dim:])\n",
        "\n",
        "print(\"Time for PCA:\")\n",
        "print (embeddings_img[trainval_loc, :].shape)"
      ],
      "metadata": {
        "id": "SYBdqXvJbUoK",
        "outputId": "a3c35bbe-f167-413c-fd41-7cc2e0048b41",
        "colab": {
          "base_uri": "https://localhost:8080/"
        }
      },
      "execution_count": 28,
      "outputs": [
        {
          "output_type": "stream",
          "name": "stdout",
          "text": [
            "Time for PCA:\n",
            "(1, 19420, 2048)\n"
          ]
        }
      ]
    }
  ]
}